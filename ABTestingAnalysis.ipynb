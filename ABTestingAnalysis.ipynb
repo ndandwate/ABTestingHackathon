{
 "cells": [
  {
   "cell_type": "code",
   "execution_count": 19,
   "id": "d887d613-3d70-4789-a3ca-7e762f408b16",
   "metadata": {},
   "outputs": [
    {
     "name": "stdout",
     "output_type": "stream",
     "text": [
      "Dataset Information:\n",
      "<class 'pandas.core.frame.DataFrame'>\n",
      "RangeIndex: 326921 entries, 0 to 326920\n",
      "Data columns (total 9 columns):\n",
      " #   Column              Non-Null Count   Dtype  \n",
      "---  ------              --------------   -----  \n",
      " 0   event_id            326921 non-null  int64  \n",
      " 1   session_id          326921 non-null  int64  \n",
      " 2   user_id             326921 non-null  int64  \n",
      " 3   variation           326921 non-null  int64  \n",
      " 4   platform            326921 non-null  object \n",
      " 5   datetime_event      326921 non-null  object \n",
      " 6   event_type          326921 non-null  object \n",
      " 7   final_order_status  170632 non-null  object \n",
      " 8   shop_id             315842 non-null  float64\n",
      "dtypes: float64(1), int64(4), object(4)\n",
      "memory usage: 22.4+ MB\n",
      "None\n",
      "\n",
      "First 5 rows of the dataset:\n",
      "   event_id  session_id  user_id  variation platform  \\\n",
      "0  63527610     6391574   762832          2  Android   \n",
      "1  12446736     6391574   762832          2  Android   \n",
      "2  90232698     6391574   762832          2  Android   \n",
      "3  74183469     9246026   762832          2  Android   \n",
      "4  16360628     9246026   762832          2  Android   \n",
      "\n",
      "                  datetime_event       event_type final_order_status  shop_id  \n",
      "0  2024-11-30 16:23:46.391133804    entry_to_shop         successful   8531.0  \n",
      "1  2024-11-30 16:26:16.875713965       order_paid         successful   8531.0  \n",
      "2  2024-11-30 16:50:44.827088753   order_finished         successful   8531.0  \n",
      "3  2024-11-29 13:21:28.729203894  reload_the_page                NaN   6186.0  \n",
      "4  2024-11-29 13:21:35.213637901    entry_to_shop                NaN   6186.0  \n"
     ]
    }
   ],
   "source": [
    "import pandas as pd  # Import pandas library for data manipulation\n",
    "\n",
    "# Define the file path (Update it based on your system)\n",
    "file_path = r\"C:\\Users\\nikit\\Downloads\\DATASET.csv\"  \n",
    "\n",
    "# Load the dataset into a pandas DataFrame\n",
    "df = pd.read_csv(file_path)\n",
    "\n",
    "# Display basic information about the dataset\n",
    "print(\"Dataset Information:\")\n",
    "print(df.info())\n",
    "\n",
    "# Display first few rows of the dataset\n",
    "print(\"\\nFirst 5 rows of the dataset:\")\n",
    "print(df.head())\n"
   ]
  },
  {
   "cell_type": "code",
   "execution_count": 20,
   "id": "17717634-a912-48d2-910b-5f2ec5540480",
   "metadata": {},
   "outputs": [
    {
     "name": "stdout",
     "output_type": "stream",
     "text": [
      "\n",
      "Before handling missing values, dataset shape: (326921, 9)\n",
      "\n",
      "Missing Values in Each Column:\n",
      "event_id                   0\n",
      "session_id                 0\n",
      "user_id                    0\n",
      "variation                  0\n",
      "platform                   0\n",
      "datetime_event             0\n",
      "event_type                 0\n",
      "final_order_status    156289\n",
      "shop_id                11079\n",
      "dtype: int64\n",
      "\n",
      "After handling missing values, dataset shape: (170632, 9)\n"
     ]
    }
   ],
   "source": [
    "# Convert 'datetime_event' column to datetime format for time-based analysis\n",
    "df[\"datetime_event\"] = pd.to_datetime(df[\"datetime_event\"], errors=\"coerce\")\n",
    "print(\"\\nBefore handling missing values, dataset shape:\", df.shape)\n",
    "# Check for missing values\n",
    "print(\"\\nMissing Values in Each Column:\")\n",
    "print(df.isnull().sum())\n",
    "\n",
    "# Drop missing values if necessary\n",
    "df = df.dropna(subset=[\"final_order_status\"])  # Drop rows where final_order_status is missing\n",
    "\n",
    "print(\"\\nAfter handling missing values, dataset shape:\", df.shape)\n"
   ]
  },
  {
   "cell_type": "code",
   "execution_count": 21,
   "id": "b83efdb4-7f60-4299-820a-6746aab73f8a",
   "metadata": {},
   "outputs": [
    {
     "name": "stdout",
     "output_type": "stream",
     "text": [
      "\n",
      "User Distribution in Each Variation:\n",
      "Control Group (Old Design) - Variation 1: 27568 users\n",
      "Test Group (Larger Images) - Variation 2: 14770 users\n"
     ]
    }
   ],
   "source": [
    "# Count the number of unique users in each A/B test variation\n",
    "user_distribution = df.groupby(\"variation\")[\"user_id\"].nunique()\n",
    "\n",
    "# Print user distribution with proper labels\n",
    "print(\"\\nUser Distribution in Each Variation:\")\n",
    "print(f\"Control Group (Old Design) - Variation 1: {user_distribution[1]} users\")\n",
    "print(f\"Test Group (Larger Images) - Variation 2: {user_distribution[2]} users\")\n",
    "\n"
   ]
  },
  {
   "cell_type": "code",
   "execution_count": 22,
   "id": "74af42f7-0838-4aff-a023-45cb9e951517",
   "metadata": {},
   "outputs": [
    {
     "name": "stdout",
     "output_type": "stream",
     "text": [
      "\n",
      "Conversion Rates in Each Variation:\n",
      "Control Group (Old Design) - Variation 1: 100.00%\n",
      "Test Group (Larger Images) - Variation 2: 100.00%\n"
     ]
    }
   ],
   "source": [
    "# Count unique users who placed at least one order in each variation group\n",
    "orders_per_variation = df[df[\"event_type\"] == \"order_paid\"].groupby(\"variation\")[\"user_id\"].nunique()\n",
    "\n",
    "# Calculate conversion rate correctly\n",
    "conversion_rates = (orders_per_variation / user_distribution) * 100\n",
    "\n",
    "# Print conversion rates with labels\n",
    "print(\"\\nConversion Rates in Each Variation:\")\n",
    "print(f\"Control Group (Old Design) - Variation 1: {conversion_rates[1]:.2f}%\")\n",
    "print(f\"Test Group (Larger Images) - Variation 2: {conversion_rates[2]:.2f}%\")\n"
   ]
  },
  {
   "cell_type": "code",
   "execution_count": 23,
   "id": "482efef7-aa84-40d0-a811-9a97a93725d6",
   "metadata": {},
   "outputs": [
    {
     "name": "stdout",
     "output_type": "stream",
     "text": [
      "\n",
      "Total unique users in dataset: 42338\n",
      "Total users who placed at least one order: 42338\n"
     ]
    }
   ],
   "source": [
    "# Count unique users in the dataset\n",
    "total_users = df[\"user_id\"].nunique()\n",
    "\n",
    "# Count users who placed at least one order\n",
    "users_with_orders = df[df[\"event_type\"] == \"order_paid\"][\"user_id\"].nunique()\n",
    "\n",
    "# Print the results\n",
    "print(f\"\\nTotal unique users in dataset: {total_users}\")\n",
    "print(f\"Total users who placed at least one order: {users_with_orders}\")\n",
    "# Step 4: Ensure potential_buyers is defined before Step 5\n",
    "# Count users who entered a restaurant (potential buyers)\n",
    "potential_buyers = df[df[\"event_type\"] == \"entry_to_shop\"].groupby(\"variation\")[\"user_id\"].nunique()\n",
    "\n",
    "# Count users who placed an order\n",
    "orders_per_variation = df[df[\"event_type\"] == \"order_paid\"].groupby(\"variation\")[\"user_id\"].nunique()\n",
    "\n"
   ]
  },
  {
   "cell_type": "code",
   "execution_count": 24,
   "id": "1ee92e6d-a735-480d-88ab-cdc902480fd3",
   "metadata": {},
   "outputs": [
    {
     "name": "stdout",
     "output_type": "stream",
     "text": [
      "\n",
      "Contingency Table:\n",
      "           Ordered  Did Not Order\n",
      "variation                        \n",
      "1            27568              0\n",
      "2            14770              0\n",
      "\n",
      "Chi-Square Test Result:\n",
      "Chi-Square Value: 0.0\n",
      "p-value: 1.0\n",
      "The difference in conversion rates is NOT statistically significant.\n"
     ]
    }
   ],
   "source": [
    "from scipy.stats import chi2_contingency\n",
    "\n",
    "# Create a contingency table for chi-square test\n",
    "contingency_table = pd.DataFrame({\n",
    "    \"Ordered\": orders_per_variation,\n",
    "    \"Did Not Order\": potential_buyers - orders_per_variation  # Users who visited but did not order\n",
    "})\n",
    "\n",
    "# Print contingency table before running the test\n",
    "print(\"\\nContingency Table:\")\n",
    "print(contingency_table)\n",
    "\n",
    "# Fix: Add a small value to prevent zero division errors\n",
    "chi2, p, dof, expected = chi2_contingency(contingency_table + 1e-10)\n",
    "\n",
    "# Print results\n",
    "print(f\"\\nChi-Square Test Result:\")\n",
    "print(f\"Chi-Square Value: {chi2}\")\n",
    "print(f\"p-value: {p}\")\n",
    "\n",
    "# Check if the result is statistically significant\n",
    "if p < 0.05:\n",
    "    print(\"The difference in conversion rates is statistically significant.\")\n",
    "else:\n",
    "    print(\"The difference in conversion rates is NOT statistically significant.\")\n",
    "\n",
    "\n"
   ]
  },
  {
   "cell_type": "code",
   "execution_count": 25,
   "id": "ee7ffe2b-352a-459c-a1a6-4b5ca8d6bb0a",
   "metadata": {},
   "outputs": [
    {
     "name": "stdout",
     "output_type": "stream",
     "text": [
      "\n",
      "Order Outcome Breakdown (in %):\n",
      "final_order_status  cancelled  refunded_after_delivery  successful\n",
      "variation                                                         \n",
      "1                   11.361775                 7.034130   81.604096\n",
      "2                   12.066051                 1.098687   86.835262\n"
     ]
    }
   ],
   "source": [
    "# Count order outcomes per variation group\n",
    "order_status_counts = df[df[\"event_type\"] == \"order_finished\"].groupby([\"variation\", \"final_order_status\"])[\"user_id\"].nunique().unstack()\n",
    "\n",
    "# Convert to percentages for better comparison\n",
    "order_status_percentages = (order_status_counts.div(order_status_counts.sum(axis=1), axis=0)) * 100\n",
    "\n",
    "# Print order outcome percentages\n",
    "print(\"\\nOrder Outcome Breakdown (in %):\")\n",
    "print(order_status_percentages)\n"
   ]
  },
  {
   "cell_type": "code",
   "execution_count": 26,
   "id": "da93ccfa-9b39-489c-9e1f-53980ab147a7",
   "metadata": {},
   "outputs": [
    {
     "name": "stdout",
     "output_type": "stream",
     "text": [
      "\n",
      "Success Rate by Platform:\n",
      "platform     Android        iOS\n",
      "variation                      \n",
      "1          86.572250  87.070339\n",
      "2          90.132563  91.070298\n"
     ]
    }
   ],
   "source": [
    "# Count successful orders per platform and variation\n",
    "platform_success_rates = df[(df[\"event_type\"] == \"order_finished\") & (df[\"final_order_status\"] == \"successful\")]\\\n",
    "    .groupby([\"variation\", \"platform\"])[\"user_id\"].nunique().unstack()\n",
    "\n",
    "# Count total users per platform\n",
    "platform_user_counts = df.groupby([\"variation\", \"platform\"])[\"user_id\"].nunique().unstack()\n",
    "\n",
    "# Calculate success rate per platform\n",
    "platform_conversion_rates = (platform_success_rates / platform_user_counts) * 100\n",
    "\n",
    "# Print platform-specific success rates\n",
    "print(\"\\nSuccess Rate by Platform:\")\n",
    "print(platform_conversion_rates)\n"
   ]
  },
  {
   "cell_type": "code",
   "execution_count": null,
   "id": "3d400680-9f63-44d0-bc6c-85d96a3db847",
   "metadata": {},
   "outputs": [],
   "source": []
  }
 ],
 "metadata": {
  "kernelspec": {
   "display_name": "Python 3 (ipykernel)",
   "language": "python",
   "name": "python3"
  },
  "language_info": {
   "codemirror_mode": {
    "name": "ipython",
    "version": 3
   },
   "file_extension": ".py",
   "mimetype": "text/x-python",
   "name": "python",
   "nbconvert_exporter": "python",
   "pygments_lexer": "ipython3",
   "version": "3.11.7"
  }
 },
 "nbformat": 4,
 "nbformat_minor": 5
}
